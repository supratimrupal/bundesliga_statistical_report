{
  "nbformat": 4,
  "nbformat_minor": 0,
  "metadata": {
    "colab": {
      "provenance": []
    },
    "kernelspec": {
      "name": "python3",
      "display_name": "Python 3"
    },
    "language_info": {
      "name": "python"
    }
  },
  "cells": [
    {
      "cell_type": "markdown",
      "source": [
        "#Bundesliga Passing Accuracy Analysis Report Python Notebook"
      ],
      "metadata": {
        "id": "2wMTB6U5-7O1"
      }
    },
    {
      "cell_type": "code",
      "execution_count": 1,
      "metadata": {
        "id": "IkZn0GVFRM5E"
      },
      "outputs": [],
      "source": [
        "import numpy as np\n",
        "import pandas as pd\n",
        "import math\n",
        "import matplotlib.pyplot as plt\n",
        "import scipy.stats as stats\n",
        "import seaborn as sns"
      ]
    },
    {
      "cell_type": "code",
      "source": [
        "#loading the dataset to dataframe\n",
        "match_data=pd.read_csv('passes.csv',delimiter=';')"
      ],
      "metadata": {
        "id": "uR7mzb_V46HB"
      },
      "execution_count": 2,
      "outputs": []
    },
    {
      "cell_type": "code",
      "source": [
        "#Checking number of rows and columns\n",
        "match_data.shape"
      ],
      "metadata": {
        "id": "Y260KNhE5c1d",
        "colab": {
          "base_uri": "https://localhost:8080/"
        },
        "outputId": "5abbc381-7304-44d1-d969-b47ebd4cfbca"
      },
      "execution_count": 3,
      "outputs": [
        {
          "output_type": "execute_result",
          "data": {
            "text/plain": [
              "(306, 3)"
            ]
          },
          "metadata": {},
          "execution_count": 3
        }
      ]
    },
    {
      "cell_type": "code",
      "source": [
        "#print the first 5 rows for preview of data\n",
        "match_data.head()"
      ],
      "metadata": {
        "colab": {
          "base_uri": "https://localhost:8080/",
          "height": 206
        },
        "id": "9wkRRSl8dGL3",
        "outputId": "5ff60024-bb4a-4482-8d0b-1f35d6fb5ffa"
      },
      "execution_count": 4,
      "outputs": [
        {
          "output_type": "execute_result",
          "data": {
            "text/plain": [
              "   game_id  passing_quote winner\n",
              "0       11           72.0     No\n",
              "1       11           91.0    Yes\n",
              "2       12           82.0    Yes\n",
              "3       12           86.0     No\n",
              "4       13           82.0    Yes"
            ],
            "text/html": [
              "\n",
              "  <div id=\"df-8128518f-a0c0-4e6c-88f4-2fefe4d3ff9a\" class=\"colab-df-container\">\n",
              "    <div>\n",
              "<style scoped>\n",
              "    .dataframe tbody tr th:only-of-type {\n",
              "        vertical-align: middle;\n",
              "    }\n",
              "\n",
              "    .dataframe tbody tr th {\n",
              "        vertical-align: top;\n",
              "    }\n",
              "\n",
              "    .dataframe thead th {\n",
              "        text-align: right;\n",
              "    }\n",
              "</style>\n",
              "<table border=\"1\" class=\"dataframe\">\n",
              "  <thead>\n",
              "    <tr style=\"text-align: right;\">\n",
              "      <th></th>\n",
              "      <th>game_id</th>\n",
              "      <th>passing_quote</th>\n",
              "      <th>winner</th>\n",
              "    </tr>\n",
              "  </thead>\n",
              "  <tbody>\n",
              "    <tr>\n",
              "      <th>0</th>\n",
              "      <td>11</td>\n",
              "      <td>72.0</td>\n",
              "      <td>No</td>\n",
              "    </tr>\n",
              "    <tr>\n",
              "      <th>1</th>\n",
              "      <td>11</td>\n",
              "      <td>91.0</td>\n",
              "      <td>Yes</td>\n",
              "    </tr>\n",
              "    <tr>\n",
              "      <th>2</th>\n",
              "      <td>12</td>\n",
              "      <td>82.0</td>\n",
              "      <td>Yes</td>\n",
              "    </tr>\n",
              "    <tr>\n",
              "      <th>3</th>\n",
              "      <td>12</td>\n",
              "      <td>86.0</td>\n",
              "      <td>No</td>\n",
              "    </tr>\n",
              "    <tr>\n",
              "      <th>4</th>\n",
              "      <td>13</td>\n",
              "      <td>82.0</td>\n",
              "      <td>Yes</td>\n",
              "    </tr>\n",
              "  </tbody>\n",
              "</table>\n",
              "</div>\n",
              "    <div class=\"colab-df-buttons\">\n",
              "\n",
              "  <div class=\"colab-df-container\">\n",
              "    <button class=\"colab-df-convert\" onclick=\"convertToInteractive('df-8128518f-a0c0-4e6c-88f4-2fefe4d3ff9a')\"\n",
              "            title=\"Convert this dataframe to an interactive table.\"\n",
              "            style=\"display:none;\">\n",
              "\n",
              "  <svg xmlns=\"http://www.w3.org/2000/svg\" height=\"24px\" viewBox=\"0 -960 960 960\">\n",
              "    <path d=\"M120-120v-720h720v720H120Zm60-500h600v-160H180v160Zm220 220h160v-160H400v160Zm0 220h160v-160H400v160ZM180-400h160v-160H180v160Zm440 0h160v-160H620v160ZM180-180h160v-160H180v160Zm440 0h160v-160H620v160Z\"/>\n",
              "  </svg>\n",
              "    </button>\n",
              "\n",
              "  <style>\n",
              "    .colab-df-container {\n",
              "      display:flex;\n",
              "      gap: 12px;\n",
              "    }\n",
              "\n",
              "    .colab-df-convert {\n",
              "      background-color: #E8F0FE;\n",
              "      border: none;\n",
              "      border-radius: 50%;\n",
              "      cursor: pointer;\n",
              "      display: none;\n",
              "      fill: #1967D2;\n",
              "      height: 32px;\n",
              "      padding: 0 0 0 0;\n",
              "      width: 32px;\n",
              "    }\n",
              "\n",
              "    .colab-df-convert:hover {\n",
              "      background-color: #E2EBFA;\n",
              "      box-shadow: 0px 1px 2px rgba(60, 64, 67, 0.3), 0px 1px 3px 1px rgba(60, 64, 67, 0.15);\n",
              "      fill: #174EA6;\n",
              "    }\n",
              "\n",
              "    .colab-df-buttons div {\n",
              "      margin-bottom: 4px;\n",
              "    }\n",
              "\n",
              "    [theme=dark] .colab-df-convert {\n",
              "      background-color: #3B4455;\n",
              "      fill: #D2E3FC;\n",
              "    }\n",
              "\n",
              "    [theme=dark] .colab-df-convert:hover {\n",
              "      background-color: #434B5C;\n",
              "      box-shadow: 0px 1px 3px 1px rgba(0, 0, 0, 0.15);\n",
              "      filter: drop-shadow(0px 1px 2px rgba(0, 0, 0, 0.3));\n",
              "      fill: #FFFFFF;\n",
              "    }\n",
              "  </style>\n",
              "\n",
              "    <script>\n",
              "      const buttonEl =\n",
              "        document.querySelector('#df-8128518f-a0c0-4e6c-88f4-2fefe4d3ff9a button.colab-df-convert');\n",
              "      buttonEl.style.display =\n",
              "        google.colab.kernel.accessAllowed ? 'block' : 'none';\n",
              "\n",
              "      async function convertToInteractive(key) {\n",
              "        const element = document.querySelector('#df-8128518f-a0c0-4e6c-88f4-2fefe4d3ff9a');\n",
              "        const dataTable =\n",
              "          await google.colab.kernel.invokeFunction('convertToInteractive',\n",
              "                                                    [key], {});\n",
              "        if (!dataTable) return;\n",
              "\n",
              "        const docLinkHtml = 'Like what you see? Visit the ' +\n",
              "          '<a target=\"_blank\" href=https://colab.research.google.com/notebooks/data_table.ipynb>data table notebook</a>'\n",
              "          + ' to learn more about interactive tables.';\n",
              "        element.innerHTML = '';\n",
              "        dataTable['output_type'] = 'display_data';\n",
              "        await google.colab.output.renderOutput(dataTable, element);\n",
              "        const docLink = document.createElement('div');\n",
              "        docLink.innerHTML = docLinkHtml;\n",
              "        element.appendChild(docLink);\n",
              "      }\n",
              "    </script>\n",
              "  </div>\n",
              "\n",
              "\n",
              "<div id=\"df-4f679c69-e8d1-4ac8-86a4-8db706090223\">\n",
              "  <button class=\"colab-df-quickchart\" onclick=\"quickchart('df-4f679c69-e8d1-4ac8-86a4-8db706090223')\"\n",
              "            title=\"Suggest charts\"\n",
              "            style=\"display:none;\">\n",
              "\n",
              "<svg xmlns=\"http://www.w3.org/2000/svg\" height=\"24px\"viewBox=\"0 0 24 24\"\n",
              "     width=\"24px\">\n",
              "    <g>\n",
              "        <path d=\"M19 3H5c-1.1 0-2 .9-2 2v14c0 1.1.9 2 2 2h14c1.1 0 2-.9 2-2V5c0-1.1-.9-2-2-2zM9 17H7v-7h2v7zm4 0h-2V7h2v10zm4 0h-2v-4h2v4z\"/>\n",
              "    </g>\n",
              "</svg>\n",
              "  </button>\n",
              "\n",
              "<style>\n",
              "  .colab-df-quickchart {\n",
              "      --bg-color: #E8F0FE;\n",
              "      --fill-color: #1967D2;\n",
              "      --hover-bg-color: #E2EBFA;\n",
              "      --hover-fill-color: #174EA6;\n",
              "      --disabled-fill-color: #AAA;\n",
              "      --disabled-bg-color: #DDD;\n",
              "  }\n",
              "\n",
              "  [theme=dark] .colab-df-quickchart {\n",
              "      --bg-color: #3B4455;\n",
              "      --fill-color: #D2E3FC;\n",
              "      --hover-bg-color: #434B5C;\n",
              "      --hover-fill-color: #FFFFFF;\n",
              "      --disabled-bg-color: #3B4455;\n",
              "      --disabled-fill-color: #666;\n",
              "  }\n",
              "\n",
              "  .colab-df-quickchart {\n",
              "    background-color: var(--bg-color);\n",
              "    border: none;\n",
              "    border-radius: 50%;\n",
              "    cursor: pointer;\n",
              "    display: none;\n",
              "    fill: var(--fill-color);\n",
              "    height: 32px;\n",
              "    padding: 0;\n",
              "    width: 32px;\n",
              "  }\n",
              "\n",
              "  .colab-df-quickchart:hover {\n",
              "    background-color: var(--hover-bg-color);\n",
              "    box-shadow: 0 1px 2px rgba(60, 64, 67, 0.3), 0 1px 3px 1px rgba(60, 64, 67, 0.15);\n",
              "    fill: var(--button-hover-fill-color);\n",
              "  }\n",
              "\n",
              "  .colab-df-quickchart-complete:disabled,\n",
              "  .colab-df-quickchart-complete:disabled:hover {\n",
              "    background-color: var(--disabled-bg-color);\n",
              "    fill: var(--disabled-fill-color);\n",
              "    box-shadow: none;\n",
              "  }\n",
              "\n",
              "  .colab-df-spinner {\n",
              "    border: 2px solid var(--fill-color);\n",
              "    border-color: transparent;\n",
              "    border-bottom-color: var(--fill-color);\n",
              "    animation:\n",
              "      spin 1s steps(1) infinite;\n",
              "  }\n",
              "\n",
              "  @keyframes spin {\n",
              "    0% {\n",
              "      border-color: transparent;\n",
              "      border-bottom-color: var(--fill-color);\n",
              "      border-left-color: var(--fill-color);\n",
              "    }\n",
              "    20% {\n",
              "      border-color: transparent;\n",
              "      border-left-color: var(--fill-color);\n",
              "      border-top-color: var(--fill-color);\n",
              "    }\n",
              "    30% {\n",
              "      border-color: transparent;\n",
              "      border-left-color: var(--fill-color);\n",
              "      border-top-color: var(--fill-color);\n",
              "      border-right-color: var(--fill-color);\n",
              "    }\n",
              "    40% {\n",
              "      border-color: transparent;\n",
              "      border-right-color: var(--fill-color);\n",
              "      border-top-color: var(--fill-color);\n",
              "    }\n",
              "    60% {\n",
              "      border-color: transparent;\n",
              "      border-right-color: var(--fill-color);\n",
              "    }\n",
              "    80% {\n",
              "      border-color: transparent;\n",
              "      border-right-color: var(--fill-color);\n",
              "      border-bottom-color: var(--fill-color);\n",
              "    }\n",
              "    90% {\n",
              "      border-color: transparent;\n",
              "      border-bottom-color: var(--fill-color);\n",
              "    }\n",
              "  }\n",
              "</style>\n",
              "\n",
              "  <script>\n",
              "    async function quickchart(key) {\n",
              "      const quickchartButtonEl =\n",
              "        document.querySelector('#' + key + ' button');\n",
              "      quickchartButtonEl.disabled = true;  // To prevent multiple clicks.\n",
              "      quickchartButtonEl.classList.add('colab-df-spinner');\n",
              "      try {\n",
              "        const charts = await google.colab.kernel.invokeFunction(\n",
              "            'suggestCharts', [key], {});\n",
              "      } catch (error) {\n",
              "        console.error('Error during call to suggestCharts:', error);\n",
              "      }\n",
              "      quickchartButtonEl.classList.remove('colab-df-spinner');\n",
              "      quickchartButtonEl.classList.add('colab-df-quickchart-complete');\n",
              "    }\n",
              "    (() => {\n",
              "      let quickchartButtonEl =\n",
              "        document.querySelector('#df-4f679c69-e8d1-4ac8-86a4-8db706090223 button');\n",
              "      quickchartButtonEl.style.display =\n",
              "        google.colab.kernel.accessAllowed ? 'block' : 'none';\n",
              "    })();\n",
              "  </script>\n",
              "</div>\n",
              "\n",
              "    </div>\n",
              "  </div>\n"
            ],
            "application/vnd.google.colaboratory.intrinsic+json": {
              "type": "dataframe",
              "variable_name": "match_data",
              "summary": "{\n  \"name\": \"match_data\",\n  \"rows\": 306,\n  \"fields\": [\n    {\n      \"column\": \"game_id\",\n      \"properties\": {\n        \"dtype\": \"number\",\n        \"std\": 49,\n        \"min\": 11,\n        \"max\": 179,\n        \"num_unique_values\": 153,\n        \"samples\": [\n          104,\n          106,\n          118\n        ],\n        \"semantic_type\": \"\",\n        \"description\": \"\"\n      }\n    },\n    {\n      \"column\": \"passing_quote\",\n      \"properties\": {\n        \"dtype\": \"number\",\n        \"std\": 6.960057978900343,\n        \"min\": 53.0,\n        \"max\": 92.0,\n        \"num_unique_values\": 36,\n        \"samples\": [\n          53.0,\n          73.0,\n          60.0\n        ],\n        \"semantic_type\": \"\",\n        \"description\": \"\"\n      }\n    },\n    {\n      \"column\": \"winner\",\n      \"properties\": {\n        \"dtype\": \"category\",\n        \"num_unique_values\": 2,\n        \"samples\": [\n          \"Yes\",\n          \"No\"\n        ],\n        \"semantic_type\": \"\",\n        \"description\": \"\"\n      }\n    }\n  ]\n}"
            }
          },
          "metadata": {},
          "execution_count": 4
        }
      ]
    },
    {
      "cell_type": "code",
      "source": [
        "#Checking if any null or missing value\n",
        "match_data.isnull().sum()"
      ],
      "metadata": {
        "colab": {
          "base_uri": "https://localhost:8080/"
        },
        "id": "BVQw78ZAqP68",
        "outputId": "2cdf4cf9-4765-465b-b1ec-1f1e1a2a07d1"
      },
      "execution_count": 5,
      "outputs": [
        {
          "output_type": "execute_result",
          "data": {
            "text/plain": [
              "game_id          0\n",
              "passing_quote    2\n",
              "winner           2\n",
              "dtype: int64"
            ]
          },
          "metadata": {},
          "execution_count": 5
        }
      ]
    },
    {
      "cell_type": "code",
      "source": [
        "#Checking records with Null values for passing quote and winner\n",
        "print(match_data[match_data['passing_quote'].isnull()])\n",
        "print(match_data[match_data['winner'].isnull()])"
      ],
      "metadata": {
        "colab": {
          "base_uri": "https://localhost:8080/"
        },
        "id": "hH3Ixpk9d9km",
        "outputId": "21c2b304-5799-4ce2-be73-d625bf33b6db"
      },
      "execution_count": 6,
      "outputs": [
        {
          "output_type": "stream",
          "name": "stdout",
          "text": [
            "     game_id  passing_quote winner\n",
            "232      139            NaN    NaN\n",
            "233      139            NaN    NaN\n",
            "     game_id  passing_quote winner\n",
            "232      139            NaN    NaN\n",
            "233      139            NaN    NaN\n"
          ]
        }
      ]
    },
    {
      "cell_type": "code",
      "source": [
        "#Dropping the missing value records\n",
        "match_data.dropna(subset=['passing_quote', 'winner'],inplace=True)\n",
        "match_data.isnull().sum()"
      ],
      "metadata": {
        "colab": {
          "base_uri": "https://localhost:8080/"
        },
        "id": "6Oh5_GCefJ35",
        "outputId": "9ade2789-bc18-4ab4-89fb-b3478524fbf1"
      },
      "execution_count": 7,
      "outputs": [
        {
          "output_type": "execute_result",
          "data": {
            "text/plain": [
              "game_id          0\n",
              "passing_quote    0\n",
              "winner           0\n",
              "dtype: int64"
            ]
          },
          "metadata": {},
          "execution_count": 7
        }
      ]
    },
    {
      "cell_type": "code",
      "source": [
        "#Statistical measures of the passing acuuracy data\n",
        "match_data['passing_quote'].describe()"
      ],
      "metadata": {
        "colab": {
          "base_uri": "https://localhost:8080/"
        },
        "id": "U25PTwDfN4ku",
        "outputId": "e2968a7c-6504-4748-a020-801c194cd5db"
      },
      "execution_count": 8,
      "outputs": [
        {
          "output_type": "execute_result",
          "data": {
            "text/plain": [
              "count    304.000000\n",
              "mean      79.680921\n",
              "std        6.960058\n",
              "min       53.000000\n",
              "25%       75.000000\n",
              "50%       80.000000\n",
              "75%       85.000000\n",
              "max       92.000000\n",
              "Name: passing_quote, dtype: float64"
            ]
          },
          "metadata": {},
          "execution_count": 8
        }
      ]
    },
    {
      "cell_type": "code",
      "source": [
        "# Split the data into two separate DF based on the first or second occurrence of each game_id\n",
        "team1_data = match_data.groupby('game_id').nth(0).rename(columns={'passing_quote': 'team1_passing_quote', 'winner': 'team1_winner'})\n",
        "team2_data = match_data.groupby('game_id').nth(1).rename(columns={'passing_quote': 'team2_passing_quote', 'winner': 'team2_winner'})\n",
        "\n",
        "# Merging the two datasets based on game_id\n",
        "match_data = pd.merge(team1_data, team2_data, on='game_id', how='inner')\n",
        "\n",
        "# Adding columns to identify if there was outcome of the match or a draw and the difference in passing rates\n",
        "match_data['game_draw'] = (match_data['team1_winner'] == 'No') & (match_data['team2_winner'] == 'No')\n",
        "\n",
        "\n",
        "match_data['passing_rate_diff'] = match_data[match_data[\"game_draw\"] == False].apply(\n",
        "    lambda row: row['team1_passing_quote'] - row['team2_passing_quote'] if row['team1_winner'] == 'Yes'\n",
        "    else row['team2_passing_quote'] - row['team1_passing_quote'], axis=1\n",
        ")\n",
        "\n",
        "#Abs_passing_rate_diff calculation for 2nd Research question purpose\n",
        "match_data['abs_passing_rate_diff'] = abs(match_data['team1_passing_quote'] - match_data['team2_passing_quote'])\n",
        "\n",
        "# Preview the transformed data\n",
        "match_data.head()"
      ],
      "metadata": {
        "colab": {
          "base_uri": "https://localhost:8080/",
          "height": 206
        },
        "id": "TP6Xw7SVZ974",
        "outputId": "e385b4d9-5078-4ddc-f8a3-b2f4ad182e20"
      },
      "execution_count": 9,
      "outputs": [
        {
          "output_type": "execute_result",
          "data": {
            "text/plain": [
              "   game_id  team1_passing_quote team1_winner  team2_passing_quote  \\\n",
              "0       11                 72.0           No                 91.0   \n",
              "1       12                 82.0          Yes                 86.0   \n",
              "2       13                 82.0          Yes                 79.0   \n",
              "3       14                 79.0           No                 77.0   \n",
              "4       15                 85.0           No                 77.0   \n",
              "\n",
              "  team2_winner  game_draw  passing_rate_diff  abs_passing_rate_diff  \n",
              "0          Yes      False               19.0                   19.0  \n",
              "1           No      False               -4.0                    4.0  \n",
              "2           No      False                3.0                    3.0  \n",
              "3          Yes      False               -2.0                    2.0  \n",
              "4           No       True                NaN                    8.0  "
            ],
            "text/html": [
              "\n",
              "  <div id=\"df-f5738479-0d64-469f-be89-8ff15880d0e2\" class=\"colab-df-container\">\n",
              "    <div>\n",
              "<style scoped>\n",
              "    .dataframe tbody tr th:only-of-type {\n",
              "        vertical-align: middle;\n",
              "    }\n",
              "\n",
              "    .dataframe tbody tr th {\n",
              "        vertical-align: top;\n",
              "    }\n",
              "\n",
              "    .dataframe thead th {\n",
              "        text-align: right;\n",
              "    }\n",
              "</style>\n",
              "<table border=\"1\" class=\"dataframe\">\n",
              "  <thead>\n",
              "    <tr style=\"text-align: right;\">\n",
              "      <th></th>\n",
              "      <th>game_id</th>\n",
              "      <th>team1_passing_quote</th>\n",
              "      <th>team1_winner</th>\n",
              "      <th>team2_passing_quote</th>\n",
              "      <th>team2_winner</th>\n",
              "      <th>game_draw</th>\n",
              "      <th>passing_rate_diff</th>\n",
              "      <th>abs_passing_rate_diff</th>\n",
              "    </tr>\n",
              "  </thead>\n",
              "  <tbody>\n",
              "    <tr>\n",
              "      <th>0</th>\n",
              "      <td>11</td>\n",
              "      <td>72.0</td>\n",
              "      <td>No</td>\n",
              "      <td>91.0</td>\n",
              "      <td>Yes</td>\n",
              "      <td>False</td>\n",
              "      <td>19.0</td>\n",
              "      <td>19.0</td>\n",
              "    </tr>\n",
              "    <tr>\n",
              "      <th>1</th>\n",
              "      <td>12</td>\n",
              "      <td>82.0</td>\n",
              "      <td>Yes</td>\n",
              "      <td>86.0</td>\n",
              "      <td>No</td>\n",
              "      <td>False</td>\n",
              "      <td>-4.0</td>\n",
              "      <td>4.0</td>\n",
              "    </tr>\n",
              "    <tr>\n",
              "      <th>2</th>\n",
              "      <td>13</td>\n",
              "      <td>82.0</td>\n",
              "      <td>Yes</td>\n",
              "      <td>79.0</td>\n",
              "      <td>No</td>\n",
              "      <td>False</td>\n",
              "      <td>3.0</td>\n",
              "      <td>3.0</td>\n",
              "    </tr>\n",
              "    <tr>\n",
              "      <th>3</th>\n",
              "      <td>14</td>\n",
              "      <td>79.0</td>\n",
              "      <td>No</td>\n",
              "      <td>77.0</td>\n",
              "      <td>Yes</td>\n",
              "      <td>False</td>\n",
              "      <td>-2.0</td>\n",
              "      <td>2.0</td>\n",
              "    </tr>\n",
              "    <tr>\n",
              "      <th>4</th>\n",
              "      <td>15</td>\n",
              "      <td>85.0</td>\n",
              "      <td>No</td>\n",
              "      <td>77.0</td>\n",
              "      <td>No</td>\n",
              "      <td>True</td>\n",
              "      <td>NaN</td>\n",
              "      <td>8.0</td>\n",
              "    </tr>\n",
              "  </tbody>\n",
              "</table>\n",
              "</div>\n",
              "    <div class=\"colab-df-buttons\">\n",
              "\n",
              "  <div class=\"colab-df-container\">\n",
              "    <button class=\"colab-df-convert\" onclick=\"convertToInteractive('df-f5738479-0d64-469f-be89-8ff15880d0e2')\"\n",
              "            title=\"Convert this dataframe to an interactive table.\"\n",
              "            style=\"display:none;\">\n",
              "\n",
              "  <svg xmlns=\"http://www.w3.org/2000/svg\" height=\"24px\" viewBox=\"0 -960 960 960\">\n",
              "    <path d=\"M120-120v-720h720v720H120Zm60-500h600v-160H180v160Zm220 220h160v-160H400v160Zm0 220h160v-160H400v160ZM180-400h160v-160H180v160Zm440 0h160v-160H620v160ZM180-180h160v-160H180v160Zm440 0h160v-160H620v160Z\"/>\n",
              "  </svg>\n",
              "    </button>\n",
              "\n",
              "  <style>\n",
              "    .colab-df-container {\n",
              "      display:flex;\n",
              "      gap: 12px;\n",
              "    }\n",
              "\n",
              "    .colab-df-convert {\n",
              "      background-color: #E8F0FE;\n",
              "      border: none;\n",
              "      border-radius: 50%;\n",
              "      cursor: pointer;\n",
              "      display: none;\n",
              "      fill: #1967D2;\n",
              "      height: 32px;\n",
              "      padding: 0 0 0 0;\n",
              "      width: 32px;\n",
              "    }\n",
              "\n",
              "    .colab-df-convert:hover {\n",
              "      background-color: #E2EBFA;\n",
              "      box-shadow: 0px 1px 2px rgba(60, 64, 67, 0.3), 0px 1px 3px 1px rgba(60, 64, 67, 0.15);\n",
              "      fill: #174EA6;\n",
              "    }\n",
              "\n",
              "    .colab-df-buttons div {\n",
              "      margin-bottom: 4px;\n",
              "    }\n",
              "\n",
              "    [theme=dark] .colab-df-convert {\n",
              "      background-color: #3B4455;\n",
              "      fill: #D2E3FC;\n",
              "    }\n",
              "\n",
              "    [theme=dark] .colab-df-convert:hover {\n",
              "      background-color: #434B5C;\n",
              "      box-shadow: 0px 1px 3px 1px rgba(0, 0, 0, 0.15);\n",
              "      filter: drop-shadow(0px 1px 2px rgba(0, 0, 0, 0.3));\n",
              "      fill: #FFFFFF;\n",
              "    }\n",
              "  </style>\n",
              "\n",
              "    <script>\n",
              "      const buttonEl =\n",
              "        document.querySelector('#df-f5738479-0d64-469f-be89-8ff15880d0e2 button.colab-df-convert');\n",
              "      buttonEl.style.display =\n",
              "        google.colab.kernel.accessAllowed ? 'block' : 'none';\n",
              "\n",
              "      async function convertToInteractive(key) {\n",
              "        const element = document.querySelector('#df-f5738479-0d64-469f-be89-8ff15880d0e2');\n",
              "        const dataTable =\n",
              "          await google.colab.kernel.invokeFunction('convertToInteractive',\n",
              "                                                    [key], {});\n",
              "        if (!dataTable) return;\n",
              "\n",
              "        const docLinkHtml = 'Like what you see? Visit the ' +\n",
              "          '<a target=\"_blank\" href=https://colab.research.google.com/notebooks/data_table.ipynb>data table notebook</a>'\n",
              "          + ' to learn more about interactive tables.';\n",
              "        element.innerHTML = '';\n",
              "        dataTable['output_type'] = 'display_data';\n",
              "        await google.colab.output.renderOutput(dataTable, element);\n",
              "        const docLink = document.createElement('div');\n",
              "        docLink.innerHTML = docLinkHtml;\n",
              "        element.appendChild(docLink);\n",
              "      }\n",
              "    </script>\n",
              "  </div>\n",
              "\n",
              "\n",
              "<div id=\"df-d6c59ff0-042f-4329-b18d-9a4091f9fe0d\">\n",
              "  <button class=\"colab-df-quickchart\" onclick=\"quickchart('df-d6c59ff0-042f-4329-b18d-9a4091f9fe0d')\"\n",
              "            title=\"Suggest charts\"\n",
              "            style=\"display:none;\">\n",
              "\n",
              "<svg xmlns=\"http://www.w3.org/2000/svg\" height=\"24px\"viewBox=\"0 0 24 24\"\n",
              "     width=\"24px\">\n",
              "    <g>\n",
              "        <path d=\"M19 3H5c-1.1 0-2 .9-2 2v14c0 1.1.9 2 2 2h14c1.1 0 2-.9 2-2V5c0-1.1-.9-2-2-2zM9 17H7v-7h2v7zm4 0h-2V7h2v10zm4 0h-2v-4h2v4z\"/>\n",
              "    </g>\n",
              "</svg>\n",
              "  </button>\n",
              "\n",
              "<style>\n",
              "  .colab-df-quickchart {\n",
              "      --bg-color: #E8F0FE;\n",
              "      --fill-color: #1967D2;\n",
              "      --hover-bg-color: #E2EBFA;\n",
              "      --hover-fill-color: #174EA6;\n",
              "      --disabled-fill-color: #AAA;\n",
              "      --disabled-bg-color: #DDD;\n",
              "  }\n",
              "\n",
              "  [theme=dark] .colab-df-quickchart {\n",
              "      --bg-color: #3B4455;\n",
              "      --fill-color: #D2E3FC;\n",
              "      --hover-bg-color: #434B5C;\n",
              "      --hover-fill-color: #FFFFFF;\n",
              "      --disabled-bg-color: #3B4455;\n",
              "      --disabled-fill-color: #666;\n",
              "  }\n",
              "\n",
              "  .colab-df-quickchart {\n",
              "    background-color: var(--bg-color);\n",
              "    border: none;\n",
              "    border-radius: 50%;\n",
              "    cursor: pointer;\n",
              "    display: none;\n",
              "    fill: var(--fill-color);\n",
              "    height: 32px;\n",
              "    padding: 0;\n",
              "    width: 32px;\n",
              "  }\n",
              "\n",
              "  .colab-df-quickchart:hover {\n",
              "    background-color: var(--hover-bg-color);\n",
              "    box-shadow: 0 1px 2px rgba(60, 64, 67, 0.3), 0 1px 3px 1px rgba(60, 64, 67, 0.15);\n",
              "    fill: var(--button-hover-fill-color);\n",
              "  }\n",
              "\n",
              "  .colab-df-quickchart-complete:disabled,\n",
              "  .colab-df-quickchart-complete:disabled:hover {\n",
              "    background-color: var(--disabled-bg-color);\n",
              "    fill: var(--disabled-fill-color);\n",
              "    box-shadow: none;\n",
              "  }\n",
              "\n",
              "  .colab-df-spinner {\n",
              "    border: 2px solid var(--fill-color);\n",
              "    border-color: transparent;\n",
              "    border-bottom-color: var(--fill-color);\n",
              "    animation:\n",
              "      spin 1s steps(1) infinite;\n",
              "  }\n",
              "\n",
              "  @keyframes spin {\n",
              "    0% {\n",
              "      border-color: transparent;\n",
              "      border-bottom-color: var(--fill-color);\n",
              "      border-left-color: var(--fill-color);\n",
              "    }\n",
              "    20% {\n",
              "      border-color: transparent;\n",
              "      border-left-color: var(--fill-color);\n",
              "      border-top-color: var(--fill-color);\n",
              "    }\n",
              "    30% {\n",
              "      border-color: transparent;\n",
              "      border-left-color: var(--fill-color);\n",
              "      border-top-color: var(--fill-color);\n",
              "      border-right-color: var(--fill-color);\n",
              "    }\n",
              "    40% {\n",
              "      border-color: transparent;\n",
              "      border-right-color: var(--fill-color);\n",
              "      border-top-color: var(--fill-color);\n",
              "    }\n",
              "    60% {\n",
              "      border-color: transparent;\n",
              "      border-right-color: var(--fill-color);\n",
              "    }\n",
              "    80% {\n",
              "      border-color: transparent;\n",
              "      border-right-color: var(--fill-color);\n",
              "      border-bottom-color: var(--fill-color);\n",
              "    }\n",
              "    90% {\n",
              "      border-color: transparent;\n",
              "      border-bottom-color: var(--fill-color);\n",
              "    }\n",
              "  }\n",
              "</style>\n",
              "\n",
              "  <script>\n",
              "    async function quickchart(key) {\n",
              "      const quickchartButtonEl =\n",
              "        document.querySelector('#' + key + ' button');\n",
              "      quickchartButtonEl.disabled = true;  // To prevent multiple clicks.\n",
              "      quickchartButtonEl.classList.add('colab-df-spinner');\n",
              "      try {\n",
              "        const charts = await google.colab.kernel.invokeFunction(\n",
              "            'suggestCharts', [key], {});\n",
              "      } catch (error) {\n",
              "        console.error('Error during call to suggestCharts:', error);\n",
              "      }\n",
              "      quickchartButtonEl.classList.remove('colab-df-spinner');\n",
              "      quickchartButtonEl.classList.add('colab-df-quickchart-complete');\n",
              "    }\n",
              "    (() => {\n",
              "      let quickchartButtonEl =\n",
              "        document.querySelector('#df-d6c59ff0-042f-4329-b18d-9a4091f9fe0d button');\n",
              "      quickchartButtonEl.style.display =\n",
              "        google.colab.kernel.accessAllowed ? 'block' : 'none';\n",
              "    })();\n",
              "  </script>\n",
              "</div>\n",
              "\n",
              "    </div>\n",
              "  </div>\n"
            ],
            "application/vnd.google.colaboratory.intrinsic+json": {
              "type": "dataframe",
              "variable_name": "match_data",
              "summary": "{\n  \"name\": \"match_data\",\n  \"rows\": 152,\n  \"fields\": [\n    {\n      \"column\": \"game_id\",\n      \"properties\": {\n        \"dtype\": \"number\",\n        \"std\": 49,\n        \"min\": 11,\n        \"max\": 179,\n        \"num_unique_values\": 152,\n        \"samples\": [\n          86,\n          175,\n          117\n        ],\n        \"semantic_type\": \"\",\n        \"description\": \"\"\n      }\n    },\n    {\n      \"column\": \"team1_passing_quote\",\n      \"properties\": {\n        \"dtype\": \"number\",\n        \"std\": 6.8003156129983395,\n        \"min\": 59.0,\n        \"max\": 92.0,\n        \"num_unique_values\": 31,\n        \"samples\": [\n          90.0,\n          76.0,\n          75.0\n        ],\n        \"semantic_type\": \"\",\n        \"description\": \"\"\n      }\n    },\n    {\n      \"column\": \"team1_winner\",\n      \"properties\": {\n        \"dtype\": \"category\",\n        \"num_unique_values\": 2,\n        \"samples\": [\n          \"Yes\",\n          \"No\"\n        ],\n        \"semantic_type\": \"\",\n        \"description\": \"\"\n      }\n    },\n    {\n      \"column\": \"team2_passing_quote\",\n      \"properties\": {\n        \"dtype\": \"number\",\n        \"std\": 7.022383671476368,\n        \"min\": 53.0,\n        \"max\": 91.0,\n        \"num_unique_values\": 31,\n        \"samples\": [\n          61.0,\n          72.0\n        ],\n        \"semantic_type\": \"\",\n        \"description\": \"\"\n      }\n    },\n    {\n      \"column\": \"team2_winner\",\n      \"properties\": {\n        \"dtype\": \"category\",\n        \"num_unique_values\": 2,\n        \"samples\": [\n          \"No\",\n          \"Yes\"\n        ],\n        \"semantic_type\": \"\",\n        \"description\": \"\"\n      }\n    },\n    {\n      \"column\": \"game_draw\",\n      \"properties\": {\n        \"dtype\": \"boolean\",\n        \"num_unique_values\": 2,\n        \"samples\": [\n          true,\n          false\n        ],\n        \"semantic_type\": \"\",\n        \"description\": \"\"\n      }\n    },\n    {\n      \"column\": \"passing_rate_diff\",\n      \"properties\": {\n        \"dtype\": \"number\",\n        \"std\": 9.888373247274313,\n        \"min\": -29.0,\n        \"max\": 25.0,\n        \"num_unique_values\": 37,\n        \"samples\": [\n          -5.0,\n          6.0\n        ],\n        \"semantic_type\": \"\",\n        \"description\": \"\"\n      }\n    },\n    {\n      \"column\": \"abs_passing_rate_diff\",\n      \"properties\": {\n        \"dtype\": \"number\",\n        \"std\": 5.796023774956463,\n        \"min\": 0.0,\n        \"max\": 29.0,\n        \"num_unique_values\": 24,\n        \"samples\": [\n          5.0,\n          13.0\n        ],\n        \"semantic_type\": \"\",\n        \"description\": \"\"\n      }\n    }\n  ]\n}"
            }
          },
          "metadata": {},
          "execution_count": 9
        }
      ]
    },
    {
      "cell_type": "code",
      "source": [
        "#Joined data at match ID level has 152 records\n",
        "match_data.shape"
      ],
      "metadata": {
        "colab": {
          "base_uri": "https://localhost:8080/"
        },
        "id": "KHb-iyscrCog",
        "outputId": "57fcecf8-98cc-4c74-c7fe-a5b9d64acad9"
      },
      "execution_count": 10,
      "outputs": [
        {
          "output_type": "execute_result",
          "data": {
            "text/plain": [
              "(152, 8)"
            ]
          },
          "metadata": {},
          "execution_count": 10
        }
      ]
    },
    {
      "cell_type": "code",
      "source": [
        "# 38 drawn games and 114 non-draw games\n",
        "match_data.groupby(['game_draw']).size()"
      ],
      "metadata": {
        "colab": {
          "base_uri": "https://localhost:8080/"
        },
        "id": "9in9tVhzqncT",
        "outputId": "d5f1164b-5815-422a-ce82-3d1aace9e3a8"
      },
      "execution_count": 11,
      "outputs": [
        {
          "output_type": "execute_result",
          "data": {
            "text/plain": [
              "game_draw\n",
              "False    114\n",
              "True      38\n",
              "dtype: int64"
            ]
          },
          "metadata": {},
          "execution_count": 11
        }
      ]
    },
    {
      "cell_type": "code",
      "source": [
        "# Check for missing values\n",
        "#(we are not calculating passing_rate_diff as we are doing for only non-draw games as per 1st research question)\n",
        "match_data.isnull().sum()\n"
      ],
      "metadata": {
        "colab": {
          "base_uri": "https://localhost:8080/"
        },
        "id": "JM2HR8-WdPri",
        "outputId": "36359e62-8d98-4010-879b-cecfa7c828e4"
      },
      "execution_count": 12,
      "outputs": [
        {
          "output_type": "execute_result",
          "data": {
            "text/plain": [
              "game_id                   0\n",
              "team1_passing_quote       0\n",
              "team1_winner              0\n",
              "team2_passing_quote       0\n",
              "team2_winner              0\n",
              "game_draw                 0\n",
              "passing_rate_diff        38\n",
              "abs_passing_rate_diff     0\n",
              "dtype: int64"
            ]
          },
          "metadata": {},
          "execution_count": 12
        }
      ]
    },
    {
      "cell_type": "markdown",
      "source": [
        "#Question\n",
        "#Does the winner of a match have a statistically higher passing rate than the loser?"
      ],
      "metadata": {
        "id": "VwDXZHxj39TQ"
      }
    },
    {
      "cell_type": "code",
      "source": [
        "# FIltering out drawn matches for 1st Research question\n",
        "non_drawn_match=match_data[match_data[\"game_draw\"] == False]"
      ],
      "metadata": {
        "id": "rE9b8I1tvPTf"
      },
      "execution_count": 13,
      "outputs": []
    },
    {
      "cell_type": "code",
      "source": [
        "#Statistical Measure for passing rate difference for non-draw games\n",
        "non_drawn_match['passing_rate_diff'].describe()"
      ],
      "metadata": {
        "colab": {
          "base_uri": "https://localhost:8080/"
        },
        "id": "sumr9kkIr7fP",
        "outputId": "4fed52ff-1992-4405-e342-8671f6bf062b"
      },
      "execution_count": 14,
      "outputs": [
        {
          "output_type": "execute_result",
          "data": {
            "text/plain": [
              "count    114.000000\n",
              "mean       1.815789\n",
              "std        9.888373\n",
              "min      -29.000000\n",
              "25%       -5.000000\n",
              "50%        3.000000\n",
              "75%        8.000000\n",
              "max       25.000000\n",
              "Name: passing_rate_diff, dtype: float64"
            ]
          },
          "metadata": {},
          "execution_count": 14
        }
      ]
    },
    {
      "cell_type": "markdown",
      "source": [
        "##Histogram for checking whether normal distribution"
      ],
      "metadata": {
        "id": "mgEbAMrlyCRQ"
      }
    },
    {
      "cell_type": "code",
      "source": [
        "# Check the distribution of passing rates\n",
        "passing_rate_diff = non_drawn_match['passing_rate_diff']\n",
        "\n",
        "# Plot the distribution\n",
        "plt.figure(figsize=(8, 5))\n",
        "sns.histplot(passing_rate_diff, kde=True)\n",
        "plt.title('Distribution of Passing Accuracy Difference')\n",
        "plt.xlabel('Passing Accuracy Difference (winner-loser for a match) ')\n",
        "plt.ylabel('Frequency')\n",
        "plt.show()"
      ],
      "metadata": {
        "colab": {
          "base_uri": "https://localhost:8080/",
          "height": 487
        },
        "id": "VY-PqD6WslPF",
        "outputId": "045b39fd-13ec-484d-864f-45731ae03340"
      },
      "execution_count": 15,
      "outputs": [
        {
          "output_type": "display_data",
          "data": {
            "text/plain": [
              "<Figure size 800x500 with 1 Axes>"
            ],
            "image/png": "[encoded data removed]"
          },
          "metadata": {}
        }
      ]
    },
    {
      "cell_type": "markdown",
      "source": [
        "##Below plot shows approximately bell shaped curve suggesting it has normal distribution"
      ],
      "metadata": {
        "id": "wCdNpaP4tM7Z"
      }
    },
    {
      "cell_type": "markdown",
      "source": [
        "##Hypotheses Set Up\n",
        "\n",
        "###Null Hypothesis (H0): There would not be any bias between passing rate difference and (outcome) win or loss in the match . This means the mean difference in passing rates (winner passing rate - loser passing rate) would be zero.\n",
        "H0: μ =0\n",
        "###Alternative Hypothesis (H1): Winners have a higher passing rate than losers, which means the mean difference in passing rates is greater than zero.\n",
        "H1: μ >0\n",
        "\n",
        "\n",
        "Key Considerations for Choosing Null and Alternative Hypotheses:\n",
        "Conventional Setup:\n",
        "\n",
        "\n",
        "Null Hypothesis (H0) is usually the statement of \"no effect\" or \"no difference.\" It's the default assumption that there is no change, no effect, or no association between two measured phenomena.\n",
        "\n",
        "Alternative Hypothesis (H1) represents what you aim to prove or expect based on your research question. It is a statement that there is an effect, a difference, or an association.\n",
        "\n",
        "*******************************************\n",
        "\n"
      ],
      "metadata": {
        "id": "YLYL8yEvxkhi"
      }
    },
    {
      "cell_type": "markdown",
      "source": [
        "One Sample T-Test"
      ],
      "metadata": {
        "id": "jwxJCkr0BsQI"
      }
    },
    {
      "cell_type": "markdown",
      "source": [
        "## Manual Calculation for One Sample T test"
      ],
      "metadata": {
        "id": "kZhh_gLHun6u"
      }
    },
    {
      "cell_type": "code",
      "source": [
        "# Calculate the necessary statistics for the t-test formula\n",
        "\n",
        "sample_mean = round(non_drawn_match['passing_rate_diff'].mean(),3)\n",
        "sample_std = round(non_drawn_match['passing_rate_diff'].std(ddof=1),3)\n",
        "sample_size = non_drawn_match.shape[0]\n",
        "degree_of_freedom = sample_size - 1\n",
        " # μ = 0 as per our null hypothesis\n",
        "population_mean = 0\n",
        "print(f\"Sample Mean (X̄): {sample_mean}\")\n",
        "print(f\"Sample Standard Deviation (S): {sample_std}\")\n",
        "print(f\"Sample Size (n): {sample_size}\")\n",
        "print(f\"Population Mean (μ): {population_mean}\")\n",
        "print(f\"Degree of Freedom: {degree_of_freedom}\")\n",
        "\n",
        "# Calculate the t-statistic manually\n",
        "t_stat = (sample_mean - population_mean) / (sample_std / (math.sqrt(sample_size)))\n",
        "\n",
        "print(f\"T-statistic (T): {t_stat:.3f}\")"
      ],
      "metadata": {
        "colab": {
          "base_uri": "https://localhost:8080/"
        },
        "id": "0xmTKsBSVH4R",
        "outputId": "1db0c8d7-1bae-461a-8cfc-a8bd58b3ce4d"
      },
      "execution_count": 16,
      "outputs": [
        {
          "output_type": "stream",
          "name": "stdout",
          "text": [
            "Sample Mean (X̄): 1.816\n",
            "Sample Standard Deviation (S): 9.888\n",
            "Sample Size (n): 114\n",
            "Population Mean (μ): 0\n",
            "Degree of Freedom: 113\n",
            "T-statistic (T): 1.961\n"
          ]
        }
      ]
    },
    {
      "cell_type": "markdown",
      "source": [
        "## Calculation of t-stat and p-value using One Sample T test Statistical Model leveraging scipy.stats.ttest_1samp model"
      ],
      "metadata": {
        "id": "1sswZ9Deut5I"
      }
    },
    {
      "cell_type": "code",
      "source": [
        "from scipy.stats import ttest_1samp\n",
        "\n",
        "# Perform the one-sample t-test\n",
        "test_statistic, p_value = ttest_1samp(non_drawn_match['passing_rate_diff'], 0, alternative='greater')\n",
        "\n",
        "print(f\"T-statistic (T): {test_statistic:.3f}\")\n",
        "print(f\"P-Value: {p_value:.3f}\")"
      ],
      "metadata": {
        "colab": {
          "base_uri": "https://localhost:8080/"
        },
        "id": "irhbvXQsw2zu",
        "outputId": "ed28a71b-7382-48f9-ee1b-a2d94da2104e"
      },
      "execution_count": 17,
      "outputs": [
        {
          "output_type": "stream",
          "name": "stdout",
          "text": [
            "T-statistic (T): 1.961\n",
            "P-Value: 0.026\n"
          ]
        }
      ]
    },
    {
      "cell_type": "code",
      "source": [
        "from scipy.stats import t\n",
        "\n",
        "# Create the figure\n",
        "plt.figure(figsize=(10, 6))\n",
        "\n",
        "alpha = 0.05  # Significance level\n",
        "df = 113       # Degrees of freedom\n",
        "\n",
        "#critical_t_value for One tailed test\n",
        "critical_t_value = round(t.ppf(1 - alpha, df),3)\n",
        "#critical_t_value=1.658\n",
        "\n",
        "\n",
        "x = np.linspace(-4, 4, 1000)\n",
        "# Calculate the t-distribution values for y\n",
        "y = t.pdf(x, df=degree_of_freedom)\n",
        "\n",
        "# Plot the t-distribution curve with similar styling\n",
        "plt.plot(x, y, label=f't-distribution (df = {degree_of_freedom})', color='red', linewidth=2)\n",
        "\n",
        "# Highlighting the critical region with similar styling\n",
        "plt.fill_between(x, 0, y, where=(x > critical_t_value), color='orange', label='Critical region (α=0.05, '+ f't-value = {critical_t_value})')\n",
        "\n",
        "# Marking the t-statistic with similar styling\n",
        "plt.axvline(x=t_stat, color='blue', linestyle='--', linewidth=2, label=f'T-statistic = {t_stat:.3f}')\n",
        "\n",
        "# Adding titles and labels similar to the uploaded image\n",
        "plt.title('One Sample One Tailed t-Test', fontsize=16)\n",
        "plt.xlabel('t value', fontsize=14)\n",
        "plt.ylabel('Probability Density', fontsize=14)\n",
        "plt.legend(fontsize=10,loc='upper left')\n",
        "plt.grid(True)\n",
        "\n",
        "# Show the plot\n",
        "plt.show()"
      ],
      "metadata": {
        "colab": {
          "base_uri": "https://localhost:8080/",
          "height": 571
        },
        "id": "Q6x4y2MJeJqu",
        "outputId": "73a4ab25-fad4-4888-96d5-5c4de3ab9f0b"
      },
      "execution_count": 18,
      "outputs": [
        {
          "output_type": "display_data",
          "data": {
            "text/plain": [
              "<Figure size 1000x600 with 1 Axes>"
            ],
            "image/png": "[encoded data removed]"
          },
          "metadata": {}
        }
      ]
    },
    {
      "cell_type": "markdown",
      "source": [
        "#Question 2\n",
        "#Is there statistically significant difference in passing accuracy between two team for two groups – drawn matches and non-draw matches ?"
      ],
      "metadata": {
        "id": "2n0kbOJL2kUJ"
      }
    },
    {
      "cell_type": "code",
      "source": [
        "\n",
        "# Check the distribution of absolute passing rate difference for drawn games\n",
        "draw_abs_passing_rate_diff = match_data[match_data[\"game_draw\"] == True ]['abs_passing_rate_diff']\n",
        "\n",
        "# Plot the distribution\n",
        "plt.figure(figsize=(5, 3))\n",
        "sns.histplot(draw_abs_passing_rate_diff, kde=True)\n",
        "plt.title('Distribution of Absolute Passing Accuracy Difference for drawn matches')\n",
        "plt.xlabel('Passing Accuracy Difference for drawn matches ')\n",
        "plt.ylabel('Frequency')\n",
        "plt.show()"
      ],
      "metadata": {
        "colab": {
          "base_uri": "https://localhost:8080/",
          "height": 333
        },
        "outputId": "b56ac5ca-edcb-4395-f626-50399ef1cae9",
        "id": "jx4AT8fa2i4S"
      },
      "execution_count": 19,
      "outputs": [
        {
          "output_type": "display_data",
          "data": {
            "text/plain": [
              "<Figure size 500x300 with 1 Axes>"
            ],
            "image/png": "[encoded data removed]"
          },
          "metadata": {}
        }
      ]
    },
    {
      "cell_type": "code",
      "source": [
        "\n",
        "# Check the distribution of absolute passing rate difference for drawn games\n",
        "non_draw_abs_passing_rate_diff = match_data[match_data[\"game_draw\"] == False ]['abs_passing_rate_diff']\n",
        "\n",
        "# Plot the distribution\n",
        "plt.figure(figsize=(5, 3))\n",
        "sns.histplot(non_draw_abs_passing_rate_diff, kde=True)\n",
        "plt.title('Distribution of Absolute Passing Accuracy Difference for drawn matches')\n",
        "plt.xlabel('Passing Accuracy Difference for drawn matches ')\n",
        "plt.ylabel('Frequency')\n",
        "plt.show()"
      ],
      "metadata": {
        "colab": {
          "base_uri": "https://localhost:8080/",
          "height": 333
        },
        "id": "fsty991K6g8F",
        "outputId": "7600b11f-83b4-431b-bbb8-83343ccddecc"
      },
      "execution_count": 20,
      "outputs": [
        {
          "output_type": "display_data",
          "data": {
            "text/plain": [
              "<Figure size 500x300 with 1 Axes>"
            ],
            "image/png": "[encoded data removed]"
          },
          "metadata": {}
        }
      ]
    },
    {
      "cell_type": "code",
      "source": [
        "# Extract data for games with a winner and games that ended in a draw\n",
        "non_draw_group = match_data[match_data[\"game_draw\"] == False]['abs_passing_rate_diff']\n",
        "draw_group = match_data[match_data[\"game_draw\"] == True]['abs_passing_rate_diff']"
      ],
      "metadata": {
        "id": "WG38PhEeTAa0"
      },
      "execution_count": 22,
      "outputs": []
    },
    {
      "cell_type": "code",
      "source": [
        "draw_group.describe()"
      ],
      "metadata": {
        "colab": {
          "base_uri": "https://localhost:8080/"
        },
        "id": "IhXHOJGiTBFX",
        "outputId": "30a45951-f97f-47b9-e440-56cd96456c5a"
      },
      "execution_count": 23,
      "outputs": [
        {
          "output_type": "execute_result",
          "data": {
            "text/plain": [
              "count    38.000000\n",
              "mean      7.684211\n",
              "std       5.798906\n",
              "min       0.000000\n",
              "25%       3.000000\n",
              "50%       8.000000\n",
              "75%      12.000000\n",
              "max      29.000000\n",
              "Name: abs_passing_rate_diff, dtype: float64"
            ]
          },
          "metadata": {},
          "execution_count": 23
        }
      ]
    },
    {
      "cell_type": "code",
      "source": [
        "non_draw_group.describe()"
      ],
      "metadata": {
        "colab": {
          "base_uri": "https://localhost:8080/"
        },
        "id": "01rLqJ-jTNtD",
        "outputId": "342edfd7-cca3-4af8-d9ee-0d96976835d8"
      },
      "execution_count": 24,
      "outputs": [
        {
          "output_type": "execute_result",
          "data": {
            "text/plain": [
              "count    114.000000\n",
              "mean       8.166667\n",
              "std        5.815628\n",
              "min        0.000000\n",
              "25%        4.000000\n",
              "50%        7.000000\n",
              "75%       10.000000\n",
              "max       29.000000\n",
              "Name: abs_passing_rate_diff, dtype: float64"
            ]
          },
          "metadata": {},
          "execution_count": 24
        }
      ]
    },
    {
      "cell_type": "markdown",
      "source": [
        "**Null Hypothesis (H0): There is no difference in the expected difference in passing rate in games that end in a draw from the expected difference in passing rate in games with a winner.**\n",
        "\n",
        "This hypothesis suggests that having a decisive winner does not result in a larger discrepancy in passing rates compared to games that end in a draw.\n",
        "\n",
        "**Alternative Hypothesis (H1): The expected difference in passing rate in games that end in a draw is different from the expected difference in passing rate in games with a winner.**\n"
      ],
      "metadata": {
        "id": "qtNZFZu6BJmx"
      }
    },
    {
      "cell_type": "markdown",
      "source": [
        "## Manual Calculation for Mann Whitney Test"
      ],
      "metadata": {
        "id": "YGzijeSyy-27"
      }
    },
    {
      "cell_type": "code",
      "source": [
        "from scipy.stats import rankdata, norm\n",
        "\n",
        "# Combine the data from both groups\n",
        "combined_data = np.concatenate((draw_group, non_draw_group))\n",
        "\n",
        "# Rank the combined data\n",
        "ranks = rankdata(combined_data)\n",
        "\n",
        "# Calculate the sum of ranks for each group\n",
        "rank_sum_draw = ranks[:len(draw_group)].sum()\n",
        "rank_sum_non_draw = ranks[len(draw_group):].sum()\n",
        "\n",
        "print(f\"Sum of Rank for Drawn Games: {rank_sum_draw}\")\n",
        "print(f\"Sum of Rank for Non-Draw Games: {rank_sum_non_draw}\")\n",
        "\n",
        "# Calculate the U statistic for each group\n",
        "n1 = len(draw_group)\n",
        "n2 = len(non_draw_group)\n",
        "\n",
        "U_draw = n1 * n2 + (n1 * (n1 + 1)) / 2 - rank_sum_draw\n",
        "U_non_draw = n1 * n2 + (n2 * (n2 + 1)) / 2 - rank_sum_non_draw\n",
        "\n",
        "print(f\"U Statistic for Drawn Games: {U_draw}\")\n",
        "print(f\"U Statistic for Non-Draw Games: {U_non_draw}\")\n",
        "\n",
        "# The smaller U statistic is used for the test\n",
        "U = min(U_draw, U_non_draw)\n",
        "print(f\"U Statistic: {U}\")\n",
        "\n",
        "# Calculate the mean and standard deviation of U\n",
        "mean_U = n1 * n2 / 2\n",
        "std_U = np.sqrt(n1 * n2 * (n1 + n2 + 1) / 12)\n",
        "\n",
        "# Calculate the z value\n",
        "z = (U - mean_U) / std_U\n",
        "print(f\"Mean Value: {mean_U}\")\n",
        "print(f\"Standard Deviation: {std_U:.2f}\")\n",
        "print(f\"Z- Value: {z:.3f}\")"
      ],
      "metadata": {
        "colab": {
          "base_uri": "https://localhost:8080/"
        },
        "id": "gY9eyYTCSB9F",
        "outputId": "116226c7-d50b-4978-ec37-822b31addd86"
      },
      "execution_count": 32,
      "outputs": [
        {
          "output_type": "stream",
          "name": "stdout",
          "text": [
            "Sum of Rank for Drawn Games: 2831.0\n",
            "Sum of Rank for Non-Draw Games: 8797.0\n",
            "U Statistic for Drawn Games: 2242.0\n",
            "U Statistic for Non-Draw Games: 2090.0\n",
            "U Statistic: 2090.0\n",
            "Mean Value: 2166.0\n",
            "Standard Deviation: 235.02\n",
            "Z- Value: -0.323\n"
          ]
        }
      ]
    },
    {
      "cell_type": "code",
      "source": [
        "import numpy as np\n",
        "import matplotlib.pyplot as plt\n",
        "import scipy.stats as stats\n",
        "\n",
        "# Given values\n",
        "z_value = z\n",
        "critical_value = 1.96\n",
        "alpha = 0.05\n",
        "\n",
        "# Generate x values for the plot\n",
        "x = np.linspace(-4, 4, 1000)\n",
        "\n",
        "# Calculate the normal distribution values for y\n",
        "y = stats.norm.pdf(x)\n",
        "\n",
        "# Plot the normal distribution\n",
        "plt.plot(x, y, label='Normal Distribution (Z)', color='red', linewidth=2)\n",
        "\n",
        "# Fill the critical region (two-tailed)\n",
        "plt.fill_between(x, y, where=(x >= critical_value) | (x <= -critical_value), color='orange',  label=f'Critical region\\n($\\\\alpha$={alpha}, Z={critical_value:.2f})')\n",
        "\n",
        "# Plot the Z statistic\n",
        "plt.axvline(z_value, color='blue', linestyle='--', linewidth=2, label=f'Z-statistic = {z_value:.3f}')\n",
        "\n",
        "# Add labels and legend\n",
        "plt.title('Mann-Whitney U Test (Two-Tailed)')\n",
        "plt.xlabel('Z value')\n",
        "plt.ylabel('Probability Density')\n",
        "plt.legend()\n",
        "\n",
        "# Show the plot\n",
        "plt.grid(True)\n",
        "plt.show()"
      ],
      "metadata": {
        "colab": {
          "base_uri": "https://localhost:8080/",
          "height": 472
        },
        "id": "b3vl7-GgRkxl",
        "outputId": "7394c83b-cd6f-4e73-e73c-fea7296dc78d"
      },
      "execution_count": 34,
      "outputs": [
        {
          "output_type": "display_data",
          "data": {
            "text/plain": [
              "<Figure size 640x480 with 1 Axes>"
            ],
            "image/png": "[encoded data removed]"
          },
          "metadata": {}
        }
      ]
    },
    {
      "cell_type": "markdown",
      "source": [
        "## Calculation of u test stat and p-value using Mann Whitney test Statistical Model leveraging scipy.stats.mannwhitneyu model"
      ],
      "metadata": {
        "id": "xUBTWwNPzWIp"
      }
    },
    {
      "cell_type": "code",
      "source": [
        "from scipy.stats import mannwhitneyu\n",
        "\n",
        "\n",
        "# Perform the Mann-Whitney U test\n",
        "u_statistic, p_value = mannwhitneyu(draw_group, non_draw_group, alternative='two-sided')\n",
        "\n",
        "print(f\"Mann-Whitney U test statistic: {u_statistic}, P-value: {p_value}\")"
      ],
      "metadata": {
        "colab": {
          "base_uri": "https://localhost:8080/"
        },
        "id": "FQK15uhP80a8",
        "outputId": "ea96a47c-c0f9-402b-806e-106eeb5c08ec"
      },
      "execution_count": 36,
      "outputs": [
        {
          "output_type": "stream",
          "name": "stdout",
          "text": [
            "Mann-Whitney U test statistic: 2090.0, P-value: 0.7474730416644133\n"
          ]
        }
      ]
    }
  ]
}